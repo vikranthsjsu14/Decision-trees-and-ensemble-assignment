{
  "nbformat": 4,
  "nbformat_minor": 0,
  "metadata": {
    "colab": {
      "provenance": []
    },
    "kernelspec": {
      "name": "python3",
      "display_name": "Python 3"
    },
    "language_info": {
      "name": "python"
    }
  },
  "cells": [
    {
      "cell_type": "code",
      "execution_count": null,
      "metadata": {
        "colab": {
          "base_uri": "https://localhost:8080/"
        },
        "id": "jDyRS05oWz4J",
        "outputId": "c08598f8-66ee-49f8-e448-ffedc65978d2"
      },
      "outputs": [
        {
          "output_type": "stream",
          "name": "stdout",
          "text": [
            "Requirement already satisfied: xgboost in /usr/local/lib/python3.10/dist-packages (2.1.3)\n",
            "Collecting catboost\n",
            "  Downloading catboost-1.2.7-cp310-cp310-manylinux2014_x86_64.whl.metadata (1.2 kB)\n",
            "Requirement already satisfied: lightgbm in /usr/local/lib/python3.10/dist-packages (4.5.0)\n",
            "Requirement already satisfied: numpy in /usr/local/lib/python3.10/dist-packages (from xgboost) (1.26.4)\n",
            "Requirement already satisfied: nvidia-nccl-cu12 in /usr/local/lib/python3.10/dist-packages (from xgboost) (2.23.4)\n",
            "Requirement already satisfied: scipy in /usr/local/lib/python3.10/dist-packages (from xgboost) (1.13.1)\n",
            "Requirement already satisfied: graphviz in /usr/local/lib/python3.10/dist-packages (from catboost) (0.20.3)\n",
            "Requirement already satisfied: matplotlib in /usr/local/lib/python3.10/dist-packages (from catboost) (3.8.0)\n",
            "Requirement already satisfied: pandas>=0.24 in /usr/local/lib/python3.10/dist-packages (from catboost) (2.2.2)\n",
            "Requirement already satisfied: plotly in /usr/local/lib/python3.10/dist-packages (from catboost) (5.24.1)\n",
            "Requirement already satisfied: six in /usr/local/lib/python3.10/dist-packages (from catboost) (1.16.0)\n",
            "Requirement already satisfied: python-dateutil>=2.8.2 in /usr/local/lib/python3.10/dist-packages (from pandas>=0.24->catboost) (2.8.2)\n",
            "Requirement already satisfied: pytz>=2020.1 in /usr/local/lib/python3.10/dist-packages (from pandas>=0.24->catboost) (2024.2)\n",
            "Requirement already satisfied: tzdata>=2022.7 in /usr/local/lib/python3.10/dist-packages (from pandas>=0.24->catboost) (2024.2)\n",
            "Requirement already satisfied: contourpy>=1.0.1 in /usr/local/lib/python3.10/dist-packages (from matplotlib->catboost) (1.3.1)\n",
            "Requirement already satisfied: cycler>=0.10 in /usr/local/lib/python3.10/dist-packages (from matplotlib->catboost) (0.12.1)\n",
            "Requirement already satisfied: fonttools>=4.22.0 in /usr/local/lib/python3.10/dist-packages (from matplotlib->catboost) (4.55.1)\n",
            "Requirement already satisfied: kiwisolver>=1.0.1 in /usr/local/lib/python3.10/dist-packages (from matplotlib->catboost) (1.4.7)\n",
            "Requirement already satisfied: packaging>=20.0 in /usr/local/lib/python3.10/dist-packages (from matplotlib->catboost) (24.2)\n",
            "Requirement already satisfied: pillow>=6.2.0 in /usr/local/lib/python3.10/dist-packages (from matplotlib->catboost) (11.0.0)\n",
            "Requirement already satisfied: pyparsing>=2.3.1 in /usr/local/lib/python3.10/dist-packages (from matplotlib->catboost) (3.2.0)\n",
            "Requirement already satisfied: tenacity>=6.2.0 in /usr/local/lib/python3.10/dist-packages (from plotly->catboost) (9.0.0)\n",
            "Downloading catboost-1.2.7-cp310-cp310-manylinux2014_x86_64.whl (98.7 MB)\n",
            "\u001b[2K   \u001b[90m━━━━━━━━━━━━━━━━━━━━━━━━━━━━━━━━━━━━━━━━\u001b[0m \u001b[32m98.7/98.7 MB\u001b[0m \u001b[31m6.5 MB/s\u001b[0m eta \u001b[36m0:00:00\u001b[0m\n",
            "\u001b[?25hInstalling collected packages: catboost\n",
            "Successfully installed catboost-1.2.7\n"
          ]
        }
      ],
      "source": [
        "!pip install xgboost catboost lightgbm\n"
      ]
    },
    {
      "cell_type": "code",
      "source": [
        "import numpy as np\n",
        "import pandas as pd\n",
        "from sklearn.model_selection import train_test_split\n",
        "from sklearn.metrics import ndcg_score\n",
        "import matplotlib.pyplot as plt\n"
      ],
      "metadata": {
        "id": "WINmfuQSXThC"
      },
      "execution_count": null,
      "outputs": []
    },
    {
      "cell_type": "code",
      "source": [
        "# Synthetic dataset for ranking\n",
        "from sklearn.datasets import make_regression\n",
        "X, y = make_regression(n_samples=1000, n_features=10, noise=0.1, random_state=42)\n",
        "group = [50] * 20  # Define groups of size 50 each (20 groups)\n"
      ],
      "metadata": {
        "id": "2qKsUa5eXVLy"
      },
      "execution_count": null,
      "outputs": []
    },
    {
      "cell_type": "code",
      "source": [
        "# preprocessing\n",
        "X_train, X_test, y_train, y_test = train_test_split(X, y, test_size=0.2, random_state=42)\n",
        "\n",
        "# Generate group_train and group_test with the correct format for LightGBM\n",
        "# LightGBM expects the group to represent the number of samples in each group, not the group ID\n",
        "group_train = [50] * (len(X_train) // 50)  # Assuming 50 items per group\n",
        "group_test = [50] * (len(X_test) // 50)  # Assuming 50 items per group\n",
        "\n",
        "y_test_rank = []\n",
        "for i in range(0, len(y_test), 50):  # Iterate over groups of size 50\n",
        "    group_indices = np.arange(i, min(i + 50, len(y_test)))\n",
        "    group_ranks = np.argsort(y_test[group_indices]) + 1  # Rank within the group\n",
        "    y_test_rank.extend(group_ranks)\n",
        "\n",
        "y_test = np.array(y_test_rank).astype(int)\n"
      ],
      "metadata": {
        "id": "xin4USp-XY1p"
      },
      "execution_count": null,
      "outputs": []
    },
    {
      "cell_type": "code",
      "source": [
        "from xgboost import XGBRanker\n",
        "xgb = XGBRanker(objective=\"rank:pairwise\", learning_rate=0.1, n_estimators=100)\n",
        "xgb.fit(X_train, y_train, group=group_train)\n",
        "y_pred_xgb = xgb.predict(X_test)\n",
        "ndcg_xgb = ndcg_score([y_test], [y_pred_xgb])\n",
        "print(\"XGBoost NDCG Score:\", ndcg_xgb)\n"
      ],
      "metadata": {
        "colab": {
          "base_uri": "https://localhost:8080/"
        },
        "id": "OWAWp7gBXdHQ",
        "outputId": "460fc8da-2abb-4cf7-c6eb-25065faba953"
      },
      "execution_count": null,
      "outputs": [
        {
          "output_type": "stream",
          "name": "stdout",
          "text": [
            "XGBoost NDCG Score: 0.9222684212781938\n"
          ]
        }
      ]
    },
    {
      "cell_type": "code",
      "source": [
        "from catboost import CatBoostRanker\n",
        "cat = CatBoostRanker(iterations=100, learning_rate=0.1, verbose=0)\n",
        "cat.fit(X_train, y_train, group_id=group_train)\n",
        "y_pred_cat = cat.predict(X_test)\n",
        "ndcg_cat = ndcg_score([y_test], [y_pred_cat])\n",
        "print(\"CatBoost NDCG Score:\", ndcg_cat)\n"
      ],
      "metadata": {
        "colab": {
          "base_uri": "https://localhost:8080/"
        },
        "id": "kNWqJD_YX07P",
        "outputId": "6022e3e7-19f9-4453-846c-cdf7927026e4"
      },
      "execution_count": null,
      "outputs": [
        {
          "output_type": "stream",
          "name": "stdout",
          "text": [
            "CatBoost NDCG Score: 0.9270417479295564\n"
          ]
        }
      ]
    },
    {
      "cell_type": "code",
      "source": [
        "import lightgbm as lgb\n",
        "from sklearn.model_selection import train_test_split\n",
        "from sklearn.preprocessing import KBinsDiscretizer\n",
        "\n",
        "# Prepare the data\n",
        "X_train, X_test, y_train, y_test = train_test_split(X, y, test_size=0.2, random_state=42)\n",
        "\n",
        "# Convert labels to ranks\n",
        "n_bins = 5\n",
        "kbins = KBinsDiscretizer(n_bins=n_bins, encode=\"ordinal\", strategy=\"uniform\")\n",
        "y_train_ranked = kbins.fit_transform(y_train.reshape(-1, 1)).astype(int).ravel()\n",
        "y_test_ranked = kbins.transform(y_test.reshape(-1, 1)).astype(int).ravel()\n",
        "\n",
        "# Define query groups\n",
        "group_size = 50\n",
        "group_train = [group_size] * (len(X_train) // group_size) + ([len(X_train) % group_size] if len(X_train) % group_size > 0 else [])\n",
        "group_test = [group_size] * (len(X_test) // group_size) + ([len(X_test) % group_size] if len(X_test) % group_size > 0 else [])\n",
        "\n",
        "# Create LightGBM datasets\n",
        "train_data = lgb.Dataset(X_train, label=y_train_ranked, group=group_train)\n",
        "test_data = lgb.Dataset(X_test, label=y_test_ranked, group=group_test, reference=train_data)\n",
        "\n",
        "# Define parameters\n",
        "params = {\n",
        "    \"objective\": \"lambdarank\",\n",
        "    \"metric\": \"ndcg\",\n",
        "    \"label_gain\": [0, 1, 3, 7, 15],  # Define gain for each rank\n",
        "}\n",
        "\n",
        "# Train the model\n",
        "lgbm = lgb.train(params, train_data, valid_sets=[test_data], num_boost_round=100)\n",
        "\n",
        "# Make predictions\n",
        "y_pred_lgbm = lgbm.predict(X_test)\n"
      ],
      "metadata": {
        "colab": {
          "base_uri": "https://localhost:8080/"
        },
        "id": "6mm14Mo2Zo0V",
        "outputId": "8938804a-fa49-4257-fd76-cb269ff93d80"
      },
      "execution_count": null,
      "outputs": [
        {
          "output_type": "stream",
          "name": "stdout",
          "text": [
            "[LightGBM] [Info] Auto-choosing col-wise multi-threading, the overhead of testing was 0.004206 seconds.\n",
            "You can set `force_col_wise=true` to remove the overhead.\n",
            "[LightGBM] [Info] Total Bins 2550\n",
            "[LightGBM] [Info] Number of data points in the train set: 800, number of used features: 10\n",
            "[LightGBM] [Warning] No further splits with positive gain, best gain: -inf\n",
            "[LightGBM] [Warning] No further splits with positive gain, best gain: -inf\n",
            "[LightGBM] [Warning] No further splits with positive gain, best gain: -inf\n",
            "[LightGBM] [Warning] No further splits with positive gain, best gain: -inf\n",
            "[LightGBM] [Warning] No further splits with positive gain, best gain: -inf\n",
            "[LightGBM] [Warning] No further splits with positive gain, best gain: -inf\n",
            "[LightGBM] [Warning] No further splits with positive gain, best gain: -inf\n",
            "[LightGBM] [Warning] No further splits with positive gain, best gain: -inf\n",
            "[LightGBM] [Warning] No further splits with positive gain, best gain: -inf\n",
            "[LightGBM] [Warning] No further splits with positive gain, best gain: -inf\n",
            "[LightGBM] [Warning] No further splits with positive gain, best gain: -inf\n",
            "[LightGBM] [Warning] No further splits with positive gain, best gain: -inf\n",
            "[LightGBM] [Warning] No further splits with positive gain, best gain: -inf\n"
          ]
        }
      ]
    },
    {
      "cell_type": "code",
      "source": [
        "# Train the LightGBM model\n",
        "lgbm = lgb.train(params, train_data, valid_sets=[test_data], num_boost_round=100)\n",
        "\n",
        "# Make predictions\n",
        "y_pred_lgbm = lgbm.predict(X_test)\n",
        "\n",
        "# Compute NDCG score\n",
        "ndcg_lgbm = ndcg_score([y_test_ranked], [y_pred_lgbm])\n",
        "print(\"LightGBM NDCG Score:\", ndcg_lgbm)\n"
      ],
      "metadata": {
        "colab": {
          "base_uri": "https://localhost:8080/"
        },
        "id": "plAvfszGagc3",
        "outputId": "5ca33114-fb21-4322-da6f-2098a20ec1fe"
      },
      "execution_count": null,
      "outputs": [
        {
          "output_type": "stream",
          "name": "stdout",
          "text": [
            "[LightGBM] [Info] Auto-choosing row-wise multi-threading, the overhead of testing was 0.001334 seconds.\n",
            "You can set `force_row_wise=true` to remove the overhead.\n",
            "And if memory is not enough, you can set `force_col_wise=true`.\n",
            "[LightGBM] [Info] Total Bins 2550\n",
            "[LightGBM] [Info] Number of data points in the train set: 800, number of used features: 10\n",
            "[LightGBM] [Warning] No further splits with positive gain, best gain: -inf\n",
            "[LightGBM] [Warning] No further splits with positive gain, best gain: -inf\n",
            "[LightGBM] [Warning] No further splits with positive gain, best gain: -inf\n",
            "[LightGBM] [Warning] No further splits with positive gain, best gain: -inf\n",
            "[LightGBM] [Warning] No further splits with positive gain, best gain: -inf\n",
            "[LightGBM] [Warning] No further splits with positive gain, best gain: -inf\n",
            "[LightGBM] [Warning] No further splits with positive gain, best gain: -inf\n",
            "[LightGBM] [Warning] No further splits with positive gain, best gain: -inf\n",
            "[LightGBM] [Warning] No further splits with positive gain, best gain: -inf\n",
            "[LightGBM] [Warning] No further splits with positive gain, best gain: -inf\n",
            "[LightGBM] [Warning] No further splits with positive gain, best gain: -inf\n",
            "[LightGBM] [Warning] No further splits with positive gain, best gain: -inf\n",
            "[LightGBM] [Warning] No further splits with positive gain, best gain: -inf\n",
            "LightGBM NDCG Score: 0.9889613638113166\n"
          ]
        }
      ]
    },
    {
      "cell_type": "code",
      "source": [
        "results = {\n",
        "    \"Model\": [\"XGBoost\", \"CatBoost\", \"LightGBM\"],\n",
        "    \"NDCG Score\": [ndcg_xgb, ndcg_cat, ndcg_lgbm]\n",
        "}\n",
        "results_df = pd.DataFrame(results)\n",
        "print(results_df)\n"
      ],
      "metadata": {
        "colab": {
          "base_uri": "https://localhost:8080/"
        },
        "id": "YGbznyuhaX6Q",
        "outputId": "68d81089-2106-4fa0-a2a1-f12c563c1ba3"
      },
      "execution_count": null,
      "outputs": [
        {
          "output_type": "stream",
          "name": "stdout",
          "text": [
            "      Model  NDCG Score\n",
            "0   XGBoost    0.922268\n",
            "1  CatBoost    0.927042\n",
            "2  LightGBM    0.988961\n"
          ]
        }
      ]
    },
    {
      "cell_type": "code",
      "source": [
        "results_df.plot(kind=\"bar\", x=\"Model\", y=\"NDCG Score\", legend=False, color=\"skyblue\")\n",
        "plt.title(\"Model NDCG Score Comparison\")\n",
        "plt.ylabel(\"NDCG Score\")\n",
        "plt.show()\n"
      ],
      "metadata": {
        "id": "AN027kufasiI",
        "outputId": "a232973f-f1ec-41ca-9bcf-9db0dce06451",
        "colab": {
          "base_uri": "https://localhost:8080/",
          "height": 525
        }
      },
      "execution_count": null,
      "outputs": [
        {
          "output_type": "display_data",
          "data": {
            "text/plain": [
              "<Figure size 640x480 with 1 Axes>"
            ],
            "image/png": "[encoded data removed]"
          },
          "metadata": {}
        }
      ]
    }
  ]
}